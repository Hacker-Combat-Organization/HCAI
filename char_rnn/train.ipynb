{
 "cells": [
  {
   "cell_type": "code",
   "execution_count": 1,
   "metadata": {
    "collapsed": false
   },
   "outputs": [],
   "source": [
    "from __future__ import print_function\n",
    "import tensorflow as tf\n",
    "\n",
    "import argparse\n",
    "import time\n",
    "import os\n",
    "from six.moves import cPickle\n",
    "\n",
    "from utils import TextLoader\n",
    "from model import Model\n"
   ]
  },
  {
   "cell_type": "code",
   "execution_count": 2,
   "metadata": {
    "collapsed": false,
    "scrolled": true
   },
   "outputs": [
    {
     "name": "stdout",
     "output_type": "stream",
     "text": [
      "b''\n",
      "b''\n",
      "b''\n",
      "b''\n"
     ]
    }
   ],
   "source": [
    "import subprocess\n",
    "print(subprocess.Popen(\"rm -f ./save/*\", shell=True, stdout=subprocess.PIPE).stdout.read())\n",
    "print(subprocess.Popen(\"rm -f ./data/shell_commands/data.npy\", shell=True, stdout=subprocess.PIPE).stdout.read())\n",
    "print(subprocess.Popen(\"rm -f ./data/shell_commands/vocab.pkl\", shell=True, stdout=subprocess.PIPE).stdout.read())\n",
    "print(subprocess.Popen(\"rm -rf ./logs/*\", shell=True, stdout=subprocess.PIPE).stdout.read())"
   ]
  },
  {
   "cell_type": "code",
   "execution_count": 3,
   "metadata": {
    "collapsed": true
   },
   "outputs": [],
   "source": [
    "from tensorflow.contrib.tensorboard.plugins import projector\n",
    "\n",
    "# Create randomly initialized embedding weights which will be trained.\n",
    "N = 10000 # Number of items (vocab size).\n",
    "D = 200 # Dimensionality of the embedding.\n",
    "embedding_var = tf.Variable(tf.random_normal([N,D]), name='word_embedding')\n",
    "\n",
    "LOG_DIR = \"./save/\"\n",
    "\n",
    "# Format: tensorflow/contrib/tensorboard/plugins/projector/projector_config.proto\n",
    "config = projector.ProjectorConfig()\n",
    "\n",
    "# You can add multiple embeddings. Here we add only one.\n",
    "embedding = config.embeddings.add()\n",
    "embedding.tensor_name = embedding_var.name\n",
    "# Link this tensor to its metadata file (e.g. labels).\n",
    "embedding.metadata_path = os.path.join(LOG_DIR, 'metadata.tsv')\n",
    "\n",
    "# Use the same LOG_DIR where you stored your checkpoint.\n",
    "summary_writer = tf.summary.FileWriter(LOG_DIR)\n",
    "\n",
    "# The next line writes a projector_config.pbtxt in the LOG_DIR. TensorBoard will\n",
    "# read this file during startup.\n",
    "projector.visualize_embeddings(summary_writer, config)"
   ]
  },
  {
   "cell_type": "code",
   "execution_count": 4,
   "metadata": {
    "collapsed": true
   },
   "outputs": [],
   "source": [
    "\n",
    "def main_train():\n",
    "    \n",
    "    parser = argparse.ArgumentParser(\n",
    "                        formatter_class=argparse.ArgumentDefaultsHelpFormatter)\n",
    "        \n",
    "    parser.add_argument('--data_dir', type=str, default='data/shell_commands',\n",
    "                        help='data directory containing input.txt')\n",
    "    parser.add_argument('--save_dir', type=str, default='save',\n",
    "                        help='directory to store checkpointed models')\n",
    "    parser.add_argument('--log_dir', type=str, default='logs',\n",
    "                        help='directory to store tensorboard logs')\n",
    "    parser.add_argument('--rnn_size', type=int, default=128,\n",
    "                        help='size of RNN hidden state')\n",
    "    parser.add_argument('--num_layers', type=int, default=2,\n",
    "                        help='number of layers in the RNN')\n",
    "    parser.add_argument('--model', type=str, default='lstm',\n",
    "                        help='rnn, gru, lstm, or nas')\n",
    "    parser.add_argument('--batch_size', type=int, default=10, #50\n",
    "                        help='minibatch size')\n",
    "    parser.add_argument('--seq_length', type=int, default=50,\n",
    "                        help='RNN sequence length')\n",
    "    parser.add_argument('--num_epochs', type=int, default=10, #50,1000\n",
    "                        help='number of epochs')\n",
    "    parser.add_argument('--save_every', type=int, default=100, #1000\n",
    "                        help='save frequency')\n",
    "    parser.add_argument('--grad_clip', type=float, default=5.,\n",
    "                        help='clip gradients at this value')\n",
    "    parser.add_argument('--learning_rate', type=float, default=0.002,\n",
    "                        help='learning rate')\n",
    "    parser.add_argument('--decay_rate', type=float, default=0.97,\n",
    "                        help='decay rate for rmsprop')\n",
    "    parser.add_argument('--output_keep_prob', type=float, default=1.0,\n",
    "                        help='probability of keeping weights in the hidden layer')\n",
    "    parser.add_argument('--input_keep_prob', type=float, default=1.0,\n",
    "                        help='probability of keeping weights in the input layer')\n",
    "    parser.add_argument('--init_from', type=str, default=None,\n",
    "                        help=\"\"\"continue training from saved model at this path. Path must contain files saved by previous training process:\n",
    "                            'config.pkl'        : configuration;\n",
    "                            'chars_vocab.pkl'   : vocabulary definitions;\n",
    "                            'checkpoint'        : paths to model file(s) (created by tf).\n",
    "                                                  Note: this file contains absolute paths, be careful when moving files around;\n",
    "                            'model.ckpt-*'      : file(s) with model definition (created by tf)\n",
    "                        \"\"\")\n",
    "    \n",
    "    \n",
    "    \n",
    "    #args = parser.parse_args()\n",
    "    \n",
    "    args_train = parser.parse_args(['--batch_size', '10'])\n",
    "\n",
    "    \n",
    "    train(args_train)\n",
    "\n",
    "    \n"
   ]
  },
  {
   "cell_type": "code",
   "execution_count": 5,
   "metadata": {
    "collapsed": true
   },
   "outputs": [],
   "source": [
    "\n",
    "\n",
    "def train(args):\n",
    "    data_loader = TextLoader(args.data_dir, args.batch_size, args.seq_length)\n",
    "    args.vocab_size = data_loader.vocab_size\n",
    "\n",
    "    # check compatibility if training is continued from previously saved model\n",
    "    if args.init_from is not None:\n",
    "        # check if all necessary files exist\n",
    "        assert os.path.isdir(args.init_from),\" %s must be a a path\" % args.init_from\n",
    "        assert os.path.isfile(os.path.join(args.init_from,\"config.pkl\")),\"config.pkl file does not exist in path %s\"%args.init_from\n",
    "        assert os.path.isfile(os.path.join(args.init_from,\"chars_vocab.pkl\")),\"chars_vocab.pkl.pkl file does not exist in path %s\" % args.init_from\n",
    "        ckpt = tf.train.get_checkpoint_state(args.init_from)\n",
    "        assert ckpt, \"No checkpoint found\"\n",
    "        assert ckpt.model_checkpoint_path, \"No model path found in checkpoint\"\n",
    "\n",
    "        # open old config and check if models are compatible\n",
    "        with open(os.path.join(args.init_from, 'config.pkl'), 'rb') as f:\n",
    "            saved_model_args = cPickle.load(f)\n",
    "        need_be_same = [\"model\", \"rnn_size\", \"num_layers\", \"seq_length\"]\n",
    "        for checkme in need_be_same:\n",
    "            assert vars(saved_model_args)[checkme]==vars(args)[checkme],\"Command line argument and saved model disagree on '%s' \"%checkme\n",
    "\n",
    "        # open saved vocab/dict and check if vocabs/dicts are compatible\n",
    "        with open(os.path.join(args.init_from, 'chars_vocab.pkl'), 'rb') as f:\n",
    "            saved_chars, saved_vocab = cPickle.load(f)\n",
    "        assert saved_chars==data_loader.chars, \"Data and loaded model disagree on character set!\"\n",
    "        assert saved_vocab==data_loader.vocab, \"Data and loaded model disagree on dictionary mappings!\"\n",
    "\n",
    "    if not os.path.isdir(args.save_dir):\n",
    "        os.makedirs(args.save_dir)\n",
    "    with open(os.path.join(args.save_dir, 'config.pkl'), 'wb') as f:\n",
    "        cPickle.dump(args, f)\n",
    "    with open(os.path.join(args.save_dir, 'chars_vocab.pkl'), 'wb') as f:\n",
    "        cPickle.dump((data_loader.chars, data_loader.vocab), f)\n",
    "\n",
    "    model = Model(args)\n",
    "\n",
    "    with tf.Session() as sess:\n",
    "        # instrument for tensorboard\n",
    "        \n",
    "        summaries = tf.summary.merge_all()\n",
    "        writer = tf.summary.FileWriter(\n",
    "                os.path.join(args.log_dir, time.strftime(\"%Y-%m-%d-%H-%M-%S\")))\n",
    "        writer.add_graph(sess.graph)\n",
    "\n",
    "\n",
    "        sess.run(tf.global_variables_initializer())\n",
    "        saver = tf.train.Saver(tf.global_variables())\n",
    "        # restore model\n",
    "        if args.init_from is not None:\n",
    "            saver.restore(sess, ckpt.model_checkpoint_path)\n",
    "        for e in range(args.num_epochs):\n",
    "            sess.run(tf.assign(model.lr,\n",
    "                               args.learning_rate * (args.decay_rate ** e)))\n",
    "            data_loader.reset_batch_pointer()\n",
    "            state = sess.run(model.initial_state)\n",
    "            for b in range(data_loader.num_batches):\n",
    "                start = time.time()\n",
    "                x, y = data_loader.next_batch()\n",
    "                #print(x)\n",
    "                #print(y)\n",
    "                \n",
    "                \n",
    "                \n",
    "                feed = {model.input_data: x, model.targets: y}\n",
    "                for i, (c, h) in enumerate(model.initial_state):\n",
    "                    feed[c] = state[i].c\n",
    "                    feed[h] = state[i].h\n",
    "                train_loss, state, _ = sess.run([model.cost, model.final_state, model.train_op], feed)\n",
    "\n",
    "                # instrument for tensorboard\n",
    "                summ, train_loss, state, _ = sess.run([summaries, model.cost, model.final_state, model.train_op], feed)\n",
    "                writer.add_summary(summ, e * data_loader.num_batches + b)\n",
    "\n",
    "                end = time.time()\n",
    "\n",
    "                print(args.num_epochs , \" - \" , data_loader.num_batches)\n",
    "\n",
    "                print(\"{}/{} (epoch {}), train_loss = {:.3f}, time/batch = {:.3f}\"\n",
    "                      .format(e * data_loader.num_batches + b,\n",
    "                              args.num_epochs * data_loader.num_batches,\n",
    "                              e, train_loss, end - start))\n",
    "                if (e * data_loader.num_batches + b) % args.save_every == 0\\\n",
    "                        or (e == args.num_epochs-1 and\n",
    "                            b == data_loader.num_batches-1):\n",
    "                    # save for the last result\n",
    "                    checkpoint_path = os.path.join(args.save_dir, 'model.ckpt')\n",
    "                    saver.save(sess, checkpoint_path,\n",
    "                               global_step=e * data_loader.num_batches + b)\n",
    "                    print(\"model saved to {}\".format(checkpoint_path))\n",
    "\n",
    "\n"
   ]
  },
  {
   "cell_type": "code",
   "execution_count": 6,
   "metadata": {
    "collapsed": false,
    "scrolled": true
   },
   "outputs": [
    {
     "name": "stdout",
     "output_type": "stream",
     "text": [
      "reading text file\n",
      "10  -  2\n",
      "0/20 (epoch 0), train_loss = 3.587, time/batch = 0.948\n",
      "model saved to save/model.ckpt\n",
      "10  -  2\n",
      "1/20 (epoch 0), train_loss = 3.321, time/batch = 0.091\n",
      "10  -  2\n",
      "2/20 (epoch 1), train_loss = 3.140, time/batch = 0.088\n",
      "10  -  2\n",
      "3/20 (epoch 1), train_loss = 2.920, time/batch = 0.084\n",
      "10  -  2\n",
      "4/20 (epoch 2), train_loss = 2.965, time/batch = 0.087\n",
      "10  -  2\n",
      "5/20 (epoch 2), train_loss = 2.812, time/batch = 0.090\n",
      "10  -  2\n",
      "6/20 (epoch 3), train_loss = 2.845, time/batch = 0.100\n",
      "10  -  2\n",
      "7/20 (epoch 3), train_loss = 2.710, time/batch = 0.084\n",
      "10  -  2\n",
      "8/20 (epoch 4), train_loss = 2.687, time/batch = 0.086\n",
      "10  -  2\n",
      "9/20 (epoch 4), train_loss = 2.614, time/batch = 0.089\n",
      "10  -  2\n",
      "10/20 (epoch 5), train_loss = 2.562, time/batch = 0.087\n",
      "10  -  2\n",
      "11/20 (epoch 5), train_loss = 2.451, time/batch = 0.089\n",
      "10  -  2\n",
      "12/20 (epoch 6), train_loss = 2.418, time/batch = 0.089\n",
      "10  -  2\n",
      "13/20 (epoch 6), train_loss = 2.309, time/batch = 0.091\n",
      "10  -  2\n",
      "14/20 (epoch 7), train_loss = 2.292, time/batch = 0.094\n",
      "10  -  2\n",
      "15/20 (epoch 7), train_loss = 2.165, time/batch = 0.094\n",
      "10  -  2\n",
      "16/20 (epoch 8), train_loss = 2.198, time/batch = 0.090\n",
      "10  -  2\n",
      "17/20 (epoch 8), train_loss = 2.072, time/batch = 0.087\n",
      "10  -  2\n",
      "18/20 (epoch 9), train_loss = 2.061, time/batch = 0.091\n",
      "10  -  2\n",
      "19/20 (epoch 9), train_loss = 1.930, time/batch = 0.082\n",
      "model saved to save/model.ckpt\n"
     ]
    }
   ],
   "source": [
    "main_train()"
   ]
  },
  {
   "cell_type": "code",
   "execution_count": null,
   "metadata": {
    "collapsed": false
   },
   "outputs": [],
   "source": []
  },
  {
   "cell_type": "code",
   "execution_count": null,
   "metadata": {
    "collapsed": true
   },
   "outputs": [],
   "source": []
  },
  {
   "cell_type": "code",
   "execution_count": null,
   "metadata": {
    "collapsed": true
   },
   "outputs": [],
   "source": []
  },
  {
   "cell_type": "code",
   "execution_count": null,
   "metadata": {
    "collapsed": false
   },
   "outputs": [],
   "source": []
  },
  {
   "cell_type": "code",
   "execution_count": null,
   "metadata": {
    "collapsed": true
   },
   "outputs": [],
   "source": []
  }
 ],
 "metadata": {
  "anaconda-cloud": {},
  "kernelspec": {
   "display_name": "Python [conda root]",
   "language": "python",
   "name": "conda-root-py"
  },
  "language_info": {
   "codemirror_mode": {
    "name": "ipython",
    "version": 3
   },
   "file_extension": ".py",
   "mimetype": "text/x-python",
   "name": "python",
   "nbconvert_exporter": "python",
   "pygments_lexer": "ipython3",
   "version": "3.5.2"
  }
 },
 "nbformat": 4,
 "nbformat_minor": 1
}
