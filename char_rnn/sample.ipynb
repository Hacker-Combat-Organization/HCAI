{
 "cells": [
  {
   "cell_type": "code",
   "execution_count": 1,
   "metadata": {
    "collapsed": false
   },
   "outputs": [],
   "source": [
    "from __future__ import print_function\n",
    "import tensorflow as tf\n",
    "\n",
    "import argparse\n",
    "import os\n",
    "from six.moves import cPickle\n",
    "\n",
    "from model import Model\n",
    "\n",
    "from six import text_type"
   ]
  },
  {
   "cell_type": "code",
   "execution_count": 2,
   "metadata": {
    "collapsed": false
   },
   "outputs": [],
   "source": [
    "#import subprocess\n",
    "#print(subprocess.Popen(\"rm -f ./save/*\", shell=True, stdout=subprocess.PIPE).stdout.read())\n",
    "#print(subprocess.Popen(\"rm -f ./data/shell_commands/data.npy\", shell=True, stdout=subprocess.PIPE).stdout.read())\n",
    "#print(subprocess.Popen(\"rm -f ./data/shell_commands/vocab.pkl\", shell=True, stdout=subprocess.PIPE).stdout.read())\n",
    "#print(subprocess.Popen(\"rm -rf ./logs/*\", shell=True, stdout=subprocess.PIPE).stdout.read())"
   ]
  },
  {
   "cell_type": "code",
   "execution_count": 3,
   "metadata": {
    "collapsed": true
   },
   "outputs": [],
   "source": [
    "def main_sample():\n",
    "    parser = argparse.ArgumentParser(\n",
    "                       formatter_class=argparse.ArgumentDefaultsHelpFormatter)\n",
    "    parser.add_argument('--save_dir', type=str, default='save',\n",
    "                        help='model directory to store checkpointed models')\n",
    "    parser.add_argument('-n', type=int, default=100, #500\n",
    "                        help='number of characters to sample')\n",
    "    parser.add_argument('--prime', type=text_type, default=u';',\n",
    "                        help='prime text')\n",
    "    parser.add_argument('--sample', type=int, default=1,\n",
    "                        help='0 to use max at each timestep, 1 to sample at '\n",
    "                             'each timestep, 2 to sample on spaces')\n",
    "\n",
    "    args_sample = parser.parse_args([\"-n\",\"100\"])\n",
    "    sample(args_sample)\n",
    "\n"
   ]
  },
  {
   "cell_type": "code",
   "execution_count": 4,
   "metadata": {
    "collapsed": true
   },
   "outputs": [],
   "source": [
    "def sample(args):\n",
    "    with open(os.path.join(args.save_dir, 'config.pkl'), 'rb') as f:\n",
    "        saved_args = cPickle.load(f)\n",
    "    #print(tf.global_variables_initializer())\n",
    "    #print(saved_args)\n",
    "    with open(os.path.join(args.save_dir, 'chars_vocab.pkl'), 'rb') as f:\n",
    "        chars, vocab = cPickle.load(f)\n",
    "    model = Model(saved_args, training=False)\n",
    "    with tf.Session() as sess:\n",
    "        tf.global_variables_initializer().run()\n",
    "        saver = tf.train.Saver(tf.global_variables())\n",
    "        ckpt = tf.train.get_checkpoint_state(args.save_dir)\n",
    "        if ckpt and ckpt.model_checkpoint_path:\n",
    "            saver.restore(sess, ckpt.model_checkpoint_path)\n",
    "            print(model.sample(sess, chars, vocab, args.n, args.prime,\n",
    "                               args.sample).encode('utf-8'))\n",
    "\n"
   ]
  },
  {
   "cell_type": "code",
   "execution_count": 5,
   "metadata": {
    "collapsed": false
   },
   "outputs": [
    {
     "name": "stdout",
     "output_type": "stream",
     "text": [
      "b';L--tat;m  - -a <Ut te-> n a-a < ;er>e    -<sttg t<etenatnmmaa -ap Vaitg;;m ma p-- i<Vaa  <trgt>> ;ma'\n"
     ]
    }
   ],
   "source": [
    "main_sample()"
   ]
  },
  {
   "cell_type": "code",
   "execution_count": null,
   "metadata": {
    "collapsed": true
   },
   "outputs": [],
   "source": []
  },
  {
   "cell_type": "code",
   "execution_count": null,
   "metadata": {
    "collapsed": true
   },
   "outputs": [],
   "source": []
  },
  {
   "cell_type": "code",
   "execution_count": null,
   "metadata": {
    "collapsed": true
   },
   "outputs": [],
   "source": []
  }
 ],
 "metadata": {
  "anaconda-cloud": {},
  "kernelspec": {
   "display_name": "Python [conda env:magenta]",
   "language": "python",
   "name": "conda-env-magenta-py"
  },
  "language_info": {
   "codemirror_mode": {
    "name": "ipython",
    "version": 2
   },
   "file_extension": ".py",
   "mimetype": "text/x-python",
   "name": "python",
   "nbconvert_exporter": "python",
   "pygments_lexer": "ipython2",
   "version": "2.7.13"
  }
 },
 "nbformat": 4,
 "nbformat_minor": 1
}
